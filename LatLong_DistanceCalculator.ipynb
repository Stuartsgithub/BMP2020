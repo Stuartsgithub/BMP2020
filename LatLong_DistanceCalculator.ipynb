{
 "cells": [
  {
   "cell_type": "code",
   "execution_count": 1,
   "metadata": {},
   "outputs": [
    {
     "name": "stdout",
     "output_type": "stream",
     "text": [
      "Position 1 - Latitude Degrees = 31\n",
      "Position 1 - Latitude Minutes = 0\n",
      "Position 1 - Longitude Degrees = 150\n",
      "Position 1 - Longitude Minutes = 0\n",
      "Position 2 - Latitude Degrees = 32\n",
      "Position 2 - Latitude Minutes = 0\n",
      "Position 2 - Longitude Degrees = 151\n",
      "Position 2 - Longitude Minutes = 0\n"
     ]
    }
   ],
   "source": [
    "import math\n",
    "# Get Position 1\n",
    "lat1_deg = math.radians(int(input(\"Position 1 - Latitude Degrees = \")))\n",
    "lat1_min = math.radians(float(input(\"Position 1 - Latitude Minutes = \")))\n",
    "lon1_deg = math.radians(int(input(\"Position 1 - Longitude Degrees = \")))\n",
    "lon1_min = math.radians(float(input(\"Position 1 - Longitude Minutes = \")))\n",
    "# Get Position 2\n",
    "lat2_deg = math.radians(int(input(\"Position 2 - Latitude Degrees = \")))\n",
    "lat2_min = math.radians(float(input(\"Position 2 - Latitude Minutes = \")))\n",
    "lon2_deg = math.radians(int(input(\"Position 2 - Longitude Degrees = \")))\n",
    "lon2_min = math.radians(float(input(\"Position 2 - Longitude Minutes = \")))"
   ]
  },
  {
   "cell_type": "code",
   "execution_count": 2,
   "metadata": {},
   "outputs": [
    {
     "name": "stdout",
     "output_type": "stream",
     "text": [
      "78.8481 nm =  146026 m\n"
     ]
    }
   ],
   "source": [
    "# Convert to Decimal\n",
    "lat1 = lat1_deg + (lat1_min/60)\n",
    "lon1 = lon1_deg + (lon1_min/60)\n",
    "lat2 = lat2_deg + (lat2_min/60)\n",
    "lon2 = lon2_deg + (lon2_min/60)\n",
    "# Compute using the law of cosines\n",
    "# Great circle distance in radians\n",
    "angle1 = math.acos(math.sin(lat1) * math.sin(lat2) \\\n",
    "         + math.cos(lat1) * math.cos(lat2) * math.cos(lon1 - lon2))\n",
    "# Convert back to degrees.\n",
    "angle1 = math.degrees(angle1)\n",
    "# Each degree on a great circle of Earth is 60 nautical miles.\n",
    "distance1 = 60.0 * angle1\n",
    "# Display Output\n",
    "print (round(distance1,4) , \"nm = \", int(distance1*1852) , \"m\")"
   ]
  },
  {
   "cell_type": "code",
   "execution_count": null,
   "metadata": {},
   "outputs": [],
   "source": []
  }
 ],
 "metadata": {
  "kernelspec": {
   "display_name": "Python 3",
   "language": "python",
   "name": "python3"
  },
  "language_info": {
   "codemirror_mode": {
    "name": "ipython",
    "version": 3
   },
   "file_extension": ".py",
   "mimetype": "text/x-python",
   "name": "python",
   "nbconvert_exporter": "python",
   "pygments_lexer": "ipython3",
   "version": "3.7.7"
  }
 },
 "nbformat": 4,
 "nbformat_minor": 4
}
