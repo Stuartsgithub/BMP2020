{
 "cells": [
  {
   "cell_type": "code",
   "execution_count": 1,
   "metadata": {},
   "outputs": [],
   "source": [
    "# !pip install -q netCDF4\n",
    "import sys\n",
    "import numpy as np\n",
    "import pandas as pd\n",
    "import seaborn as sns\n",
    "import xarray as xr\n",
    "import matplotlib.pyplot as plt\n",
    "from scipy.signal import argrelextrema\n",
    "from scipy.signal import find_peaks\n",
    "#import xscale\n",
    "# make a change"
   ]
  },
  {
   "cell_type": "markdown",
   "metadata": {},
   "source": [
    "# load mooring data from AODN aggregated timeseries"
   ]
  },
  {
   "cell_type": "code",
   "execution_count": null,
   "metadata": {},
   "outputs": [],
   "source": [
    "#fname = 'http://thredds.aodn.org.au/thredds/dodsC/IMOS/ANMN/NSW/BMP120/aggregated_timeseries/IMOS_ANMN-NSW_TZ_20110329_BMP120_FV01_TEMP-aggregated-timeseries_END-20200327_C-20200519.nc'\n",
    "#nc.to_netcdf('IMOS_ANMN-NSW_TZ_20110329_BMP120_FV01_TEMP-aggregated-timeseries_END-20200327_C-20200519.nc')\n",
    "\n",
    "# mod 26/5 save data locally\n",
    "# use local file\n",
    "fname = 'IMOS_ANMN-NSW_TZ_20110329_BMP120_FV01_TEMP-aggregated-timeseries_END-20200327_C-20200519.nc'\n",
    "nc = xr.open_dataset(fname)\n",
    "\n"
   ]
  },
  {
   "cell_type": "code",
   "execution_count": null,
   "metadata": {},
   "outputs": [],
   "source": [
    "# nc.NOMINAL_DEPTH[:5]\n",
    "nc\n",
    "#nc.TEMP.count()\n",
    "# nc.LATITUDE.count()    378 points 378/13 = 29.07 ie 29 deployments 1 lat/long per logger\n",
    "nc.LATITUDE.head(200)\n",
    "# HOW TO PLOT THESE ON A MAP??"
   ]
  },
  {
   "cell_type": "code",
   "execution_count": null,
   "metadata": {},
   "outputs": [],
   "source": [
    "df = pd.DataFrame({'TIME': nc.TIME, 'TEMP': nc.TEMP, 'TEMPqc': nc.TEMP_quality_control, 'DEPTH' : nc.DEPTH}).set_index('TIME')\n",
    "df.head(10)\n",
    "df.tail(5)"
   ]
  },
  {
   "cell_type": "code",
   "execution_count": null,
   "metadata": {},
   "outputs": [],
   "source": [
    "# df.head(10)\n",
    "df.TEMP.count()"
   ]
  },
  {
   "cell_type": "code",
   "execution_count": null,
   "metadata": {},
   "outputs": [],
   "source": [
    "df.TEMPqc.value_counts()\n",
    "# Count good data points - describe qc flags!!"
   ]
  },
  {
   "cell_type": "code",
   "execution_count": null,
   "metadata": {},
   "outputs": [],
   "source": [
    "df_good = df[df.TEMPqc == 1]\n",
    "df_good.TEMPqc.value_counts()"
   ]
  },
  {
   "cell_type": "code",
   "execution_count": null,
   "metadata": {},
   "outputs": [],
   "source": [
    "#have a look at the data distribution with depth.\n",
    "df_good.DEPTH.plot()\n",
    "plt.gca().invert_yaxis()\n",
    "# df_good.DEPTH.plot.scatter('TIME','DEPTH') syntax "
   ]
  },
  {
   "cell_type": "code",
   "execution_count": null,
   "metadata": {},
   "outputs": [],
   "source": [
    "# and zoom in on a subset ???\n",
    "df_good['2016':'2017'].DEPTH.plot()\n",
    "\n",
    "#big data gaps - create a summary of this.."
   ]
  },
  {
   "cell_type": "code",
   "execution_count": null,
   "metadata": {},
   "outputs": [],
   "source": [
    "#get distribution of depths\n",
    "sns.distplot(df_good['DEPTH'].dropna())"
   ]
  },
  {
   "cell_type": "code",
   "execution_count": null,
   "metadata": {},
   "outputs": [],
   "source": [
    "# zoom in on distribution of depths  - havent worked this out yet\n",
    "# sns.distplot(df_good['DEPTH'].dropna())[20:40]\n",
    "# sns.distplot(df_good['DEPTH'].dropna())['20':'40']\n",
    "# TypeError: 'AxesSubplot' object is not subscriptable"
   ]
  },
  {
   "cell_type": "code",
   "execution_count": null,
   "metadata": {},
   "outputs": [],
   "source": [
    "# bin the data into depth bins (set inside the square brackets, using big bins for the moment to keep things simple), the 'labels' field gives the bins a name\n",
    "#binned = pd.cut(x=df_good.DEPTH, bins=[-np.inf, 30, 60,80, np.inf], right=False, labels=['surface', '30-60', '60-80' , 'bottom'])\n",
    "#grouped = df_good.groupby(binned)\n",
    "#surface_temp_1D = grouped.get_group('surface').TEMP.resample('1D').mean()\n",
    "#bottom_temp_1D = grouped.get_group('bottom').TEMP.resample('1D').mean()"
   ]
  },
  {
   "cell_type": "code",
   "execution_count": null,
   "metadata": {},
   "outputs": [],
   "source": [
    "# bin the data into depth bins (second pass)\n",
    "#binned = pd.cut(x=df_good.DEPTH, bins=[-np.inf, 22, 30,38,46,54,62,70,78,86,94,102,110, np.inf], \n",
    "#                right=False, labels=['surface', '22-30', '30-38', '38-46', '46-54', '54-62', '62-70', \n",
    "#                                     '70-78', '78-86', '86-94', '94-102', '102-110' , 'bottom'])"
   ]
  },
  {
   "cell_type": "code",
   "execution_count": null,
   "metadata": {},
   "outputs": [],
   "source": [
    "# bin the data into depth bins (third pass)\n",
    "binned = pd.cut(x=df_good.DEPTH, bins=[-np.inf, 24,32,40,48,56,64,72,81,89,97,105,112, np.inf], \n",
    "                right=False, labels=['surface', '24-32', '32-40', '40-48', '48-56', '56-64', '64-72', \n",
    "                                     '72-81', '81-89', '89-97', '97-105',  '105-112' , 'bottom'])\n",
    "\n"
   ]
  },
  {
   "cell_type": "code",
   "execution_count": null,
   "metadata": {},
   "outputs": [],
   "source": [
    "# plot all bins\n",
    "grouped = df_good.groupby(binned)\n",
    "sns.distplot(grouped.get_group('surface').DEPTH)\n",
    "sns.distplot(grouped.get_group('24-32').DEPTH)\n",
    "sns.distplot(grouped.get_group('32-40').DEPTH)\n",
    "sns.distplot(grouped.get_group('40-48').DEPTH)\n",
    "sns.distplot(grouped.get_group('48-56').DEPTH)\n",
    "sns.distplot(grouped.get_group('56-64').DEPTH)\n",
    "sns.distplot(grouped.get_group('64-72').DEPTH)\n",
    "sns.distplot(grouped.get_group('72-81').DEPTH)\n",
    "sns.distplot(grouped.get_group('81-89').DEPTH)\n",
    "sns.distplot(grouped.get_group('89-97').DEPTH)\n",
    "sns.distplot(grouped.get_group('97-105').DEPTH)\n",
    "sns.distplot(grouped.get_group('105-112').DEPTH)\n",
    "sns.distplot(grouped.get_group('bottom').DEPTH)"
   ]
  },
  {
   "cell_type": "code",
   "execution_count": null,
   "metadata": {},
   "outputs": [],
   "source": [
    "# Now create groups/variables according to these bins\n",
    "surface_temp = grouped.get_group('surface').TEMP\n",
    "bin24_32_temp = grouped.get_group('24-32').TEMP\n",
    "bin32_40_temp = grouped.get_group('32-40').TEMP\n",
    "#etc\n",
    "bin64_72_temp = grouped.get_group('64-72').TEMP\n",
    "#etc\n",
    "bottom_temp = grouped.get_group('bottom').TEMP"
   ]
  },
  {
   "cell_type": "code",
   "execution_count": null,
   "metadata": {},
   "outputs": [],
   "source": [
    "# Plot temps\n",
    "surface_temp.plot()\n",
    "bottom_temp.plot()"
   ]
  },
  {
   "cell_type": "code",
   "execution_count": null,
   "metadata": {},
   "outputs": [],
   "source": [
    "# Plot temps by year\n",
    "surface_temp['2010':'2011'].plot()\n",
    "bottom_temp['2010':'2011'].plot()"
   ]
  },
  {
   "cell_type": "code",
   "execution_count": null,
   "metadata": {},
   "outputs": [],
   "source": [
    "# Plot temps\n",
    "surface_temp['2011':'2012'].plot()\n",
    "bottom_temp['2011':'2012'].plot()"
   ]
  },
  {
   "cell_type": "code",
   "execution_count": null,
   "metadata": {},
   "outputs": [],
   "source": [
    "# Plot temps\n",
    "surface_temp.plot()\n",
    "bottom_temp.plot()"
   ]
  },
  {
   "cell_type": "code",
   "execution_count": null,
   "metadata": {},
   "outputs": [],
   "source": [
    "# Plot temps\n",
    "surface_temp['2012':'2013'].plot()\n",
    "#bin64_72_temp['2012':'2013'].plot()\n",
    "bottom_temp['2012':'2013'].plot()\n",
    "#"
   ]
  },
  {
   "cell_type": "code",
   "execution_count": null,
   "metadata": {},
   "outputs": [],
   "source": [
    "# Plot temps\n",
    "surface_temp['2014':'2014'].plot()\n",
    "bottom_temp['2014':'2014'].plot()\n",
    "#"
   ]
  },
  {
   "cell_type": "code",
   "execution_count": null,
   "metadata": {},
   "outputs": [],
   "source": [
    "# Plot temps\n",
    "surface_temp['2014':'2015'].plot()\n",
    "bottom_temp['2014':'2015'].plot()\n",
    "#"
   ]
  },
  {
   "cell_type": "code",
   "execution_count": null,
   "metadata": {},
   "outputs": [],
   "source": [
    "# Plot temps\n",
    "surface_temp['2015':'2016'].plot()\n",
    "bottom_temp['2015':'2016'].plot()\n",
    "#"
   ]
  },
  {
   "cell_type": "code",
   "execution_count": null,
   "metadata": {},
   "outputs": [],
   "source": [
    "# Plot temps\n",
    "surface_temp['2016':'2017'].plot()\n",
    "bottom_temp['2016':'2017'].plot()\n",
    "#"
   ]
  },
  {
   "cell_type": "code",
   "execution_count": null,
   "metadata": {},
   "outputs": [],
   "source": [
    "# Plot temps\n",
    "surface_temp['2017':'2018'].plot()\n",
    "bottom_temp['2017':'2018'].plot()\n",
    "#"
   ]
  },
  {
   "cell_type": "code",
   "execution_count": null,
   "metadata": {},
   "outputs": [],
   "source": [
    "# Plot temps\n",
    "surface_temp['2018':'2020'].plot()\n",
    "bottom_temp['2018':'2020'].plot()\n",
    "#"
   ]
  },
  {
   "cell_type": "code",
   "execution_count": null,
   "metadata": {},
   "outputs": [],
   "source": [
    "# Now compute 1 day mean\n",
    "grouped = df_good.groupby(binned)\n",
    "surface_temp_1D = grouped.get_group('surface').TEMP.resample('1D').mean()\n",
    "bin32_40_temp_1D = grouped.get_group('32-40').TEMP.resample('1D').mean()\n",
    "#etc\n",
    "bottom_temp_1D = grouped.get_group('bottom').TEMP.resample('1D').mean()"
   ]
  },
  {
   "cell_type": "code",
   "execution_count": null,
   "metadata": {},
   "outputs": [],
   "source": [
    "# Plot these\n",
    "surface_temp_1D.plot()\n",
    "bottom_temp_1D.plot()"
   ]
  },
  {
   "cell_type": "code",
   "execution_count": null,
   "metadata": {},
   "outputs": [],
   "source": [
    "# Zoom in on a hyear\n",
    "surface_temp_1D['2018':'2020'].plot()\n",
    "bottom_temp_1D['2018':'2020'].plot()"
   ]
  },
  {
   "cell_type": "code",
   "execution_count": null,
   "metadata": {},
   "outputs": [],
   "source": [
    "# Better graph?\n",
    "# Using plotly.express\n",
    "\n",
    "import plotly.express as px\n",
    "#df = pd.read_csv('https://raw.githubusercontent.com/plotly/datasets/master/finance-charts-apple.csv')\n",
    "# fig = px.line(df, x='Date', y='Temp') ..nope\n",
    "# fig = px.line(df)  ..maybe\n",
    "fig = px.line(surface_temp_1D,  y = \"TEMP\", title = 'surface temp')\n",
    "fig.show()\n",
    "fig = px.line(bottom_temp_1D, y = \"TEMP\", title = 'bottom temp')\n",
    "fig.show()\n"
   ]
  },
  {
   "cell_type": "code",
   "execution_count": null,
   "metadata": {},
   "outputs": [],
   "source": [
    "# How to overlay these\n",
    "fig = px.line(surface_temp_1D, bottom_temp_1D,  y = \"TEMP\", title = 'graph2')\n",
    "fig.show()\n",
    "\n",
    "#fig = px.line(df, x=\"year\", y=\"lifeExp\", color='country')"
   ]
  },
  {
   "cell_type": "code",
   "execution_count": null,
   "metadata": {},
   "outputs": [],
   "source": [
    "# Nope . need to specify time vs temp??\n",
    "\n",
    "#fig = px.line(surface_temp_1D, bottom_temp_1D,  x = \"TIME\",y = \"TEMP\", title = 'graph3') ...nope\n",
    "\n",
    "# Question. Is surface_temp_ID still in df_good?\n",
    "# Can i plot it as a subset of df_good? ie\n",
    "fig = px.line(df_good, x=\"TIME\", y=\"TEMP\", color='BIN')\n",
    "\n",
    "#or something like this... ?\n",
    "\n",
    "df_good[[\"surface_temp_1D\", \"bottom_temp_1D\"]].plot(subplots=True, figsize=(15,4))\n",
    "\n",
    "fig.show()\n",
    "\n",
    "\n"
   ]
  },
  {
   "cell_type": "code",
   "execution_count": null,
   "metadata": {},
   "outputs": [],
   "source": []
  },
  {
   "cell_type": "code",
   "execution_count": null,
   "metadata": {},
   "outputs": [],
   "source": []
  },
  {
   "cell_type": "code",
   "execution_count": null,
   "metadata": {},
   "outputs": [],
   "source": []
  },
  {
   "cell_type": "code",
   "execution_count": null,
   "metadata": {},
   "outputs": [],
   "source": [
    "# Compute the centered 7-day rolling mean\n",
    "surface_temp_7D = surface_temp_1D.rolling(7, center=True,min_periods=1).mean()\n",
    "bottom_temp_7D = bottom_temp_1D.rolling(7, center=True,min_periods=1).mean()\n",
    "\n",
    "#Compute the centered 365-day rolling mean\n",
    "surface_temp_1Y = surface_temp_1D.rolling(730, center=True, win_type='hamming',min_periods=100).mean()\n",
    "bottom_temp_1Y = bottom_temp_1D.rolling(730, center=True, win_type='hamming',min_periods=100).mean()"
   ]
  },
  {
   "cell_type": "code",
   "execution_count": null,
   "metadata": {},
   "outputs": [],
   "source": [
    "# Plot daily, 7-day rolling mean, and 365-day rolling mean time series\n",
    "fig, ax = plt.subplots()\n",
    "ax.plot(surface_temp_1D, marker='.', markersize=2, color='0.6',\n",
    "linestyle='None', label='Daily')\n",
    "ax.plot(surface_temp_7D, linewidth=2, label='7-d Rolling Mean')\n",
    "ax.plot(surface_temp_1Y, color='0.2', linewidth=3, label='Trend (365-d Rolling Mean')\n",
    "# Set x-ticks to yearly interval and add legend and labels\n",
    "#ax.xaxis.set_major_locator(mdates.YearLocator())\n",
    "ax.legend()\n",
    "ax.set_xlabel('Year')\n",
    "ax.set_ylabel('Temperature')\n",
    "ax.set_title('20m Temperature at BMP 120');\n",
    "#plt.savefig('BMP120_20m_temperature_tseries.png', dpi=300,bbox_inches='tight')"
   ]
  },
  {
   "cell_type": "code",
   "execution_count": null,
   "metadata": {},
   "outputs": [],
   "source": [
    "surface_temp_7D['2012-7':'2013'].plot(label='7D')\n",
    "surface_temp_1D['2012-7':'2013'].plot(label='1D')\n",
    "depth24_32_temp_1D['2012-7':'2013'].plot(label='bin2')\n",
    "plt.legend()\n",
    "\n"
   ]
  },
  {
   "cell_type": "code",
   "execution_count": null,
   "metadata": {},
   "outputs": [],
   "source": [
    "surface['2012':'2013'].plot()"
   ]
  },
  {
   "cell_type": "code",
   "execution_count": null,
   "metadata": {},
   "outputs": [],
   "source": [
    "# NO LONGER 80-120\n",
    "# Plot daily, 7-day rolling mean, and 365-day rolling mean time series\n",
    "fig, ax = plt.subplots()\n",
    "ax.plot(bottom_temp_1D, marker='.', markersize=2, color='0.6',\n",
    "linestyle='None', label='Daily')\n",
    "ax.plot(bottom_temp_7D, linewidth=2, label='7-d Rolling Mean')\n",
    "ax.plot(bottom_temp_1Y, color='0.2', linewidth=3, label='Trend (365-d Rolling Mean')\n",
    "# Set x-ticks to yearly interval and add legend and labels\n",
    "#ax.xaxis.set_major_locator(mdates.YearLocator())\n",
    "ax.legend()\n",
    "ax.set_xlabel('Year')\n",
    "ax.set_ylabel('Temperature')\n",
    "ax.set_title('80-120m Temperature at BMP 120');\n",
    "plt.savefig('BMP120_80-120m_temperature_tseries.png', dpi=300,bbox_inches='tight')"
   ]
  },
  {
   "cell_type": "code",
   "execution_count": null,
   "metadata": {},
   "outputs": [],
   "source": [
    "# NO LONGER 80-120\n",
    "# resample at monthly, remove seasonal cycle, add 2 year filter\n",
    "surface_temp_1M = grouped.get_group('surface').TEMP.resample('1M').mean()\n",
    "bottom_temp_1M = grouped.get_group('bottom').TEMP.resample('1M').mean()\n",
    "\n",
    "surface_temp_1M_filt = surface_temp_1M.rolling(24, center=True, win_type='hamming',min_periods=3).mean()\n",
    "bottom_temp_1M_filt = bottom_temp_1M.rolling(24, center=True, win_type='hamming',min_periods=3).mean()\n",
    "\n",
    "# Plot daily, 7-day rolling mean, and 365-day rolling mean time series\n",
    "fig, ax = plt.subplots()\n",
    "ax.plot(surface_temp_1M, linewidth=2, label='Montly mean')\n",
    "ax.plot(surface_temp_1M_filt, color='0.2', linewidth=3, label='Trend (2-year Filtered')\n",
    "# Set x-ticks to yearly interval and add legend and labels\n",
    "ax.legend()\n",
    "ax.set_xlabel('Year')\n",
    "ax.set_ylabel('Temperature')\n",
    "ax.set_title('80-120m Temperature at BMP 120');"
   ]
  },
  {
   "cell_type": "code",
   "execution_count": null,
   "metadata": {},
   "outputs": [],
   "source": [
    "# OK, so this works, but if we want to keep things consistent with the SST analysis, and for gapfilling lets rather convert to an Xarray dataset and proceed from there.\n",
    "DA_surfacetemp = surface_temp_1D.to_xarray()\n",
    "ds = DA_surfacetemp.to_dataset()\n",
    "ds = ds.rename({'TIME': 'time'})\n",
    "ds"
   ]
  },
  {
   "cell_type": "code",
   "execution_count": null,
   "metadata": {},
   "outputs": [],
   "source": [
    "# Remove seasonal cycle\n",
    "\n",
    "def xarray_trend(xarr):\n",
    "    \"\"\"\n",
    "    Calculates the trend of the data along the 'time' dimension\n",
    "    of the input array (xarr).\n",
    "    USAGE:  x_DS = xarray_trend(xarr)\n",
    "    INPUT:  xarr is an xarray DataArray with dims:\n",
    "                time, [lat, lon]\n",
    "                where lat and/or lon are optional\n",
    "    OUTPUT: xArray Dataset with:\n",
    "                original xarr input\n",
    "                slope\n",
    "                p-value\n",
    "    TODO?\n",
    "    There could be speed improvements (using numpy at the moment)\n",
    "    \"\"\"\n",
    "\n",
    "    from scipy import stats\n",
    "    # getting shapes\n",
    "\n",
    "    n = xarr.shape[0]\n",
    "\n",
    "    # creating x and y variables for linear regression\n",
    "    x = xarr.time.to_pandas().index.to_julian_date().values[:, None]\n",
    "    y = xarr.to_masked_array().reshape(n, -1)\n",
    "\n",
    "    # ############################ #\n",
    "    # LINEAR REGRESSION DONE BELOW #\n",
    "    xm = x.mean(0)  # mean\n",
    "    ym = y.mean(0)  # mean\n",
    "    ya = y - ym  # anomaly\n",
    "    xa = x - xm  # anomaly\n",
    "\n",
    "    # variance and covariances\n",
    "    xss = (xa ** 2).sum(0) / (n - 1)  # variance of x (with df as n-1)\n",
    "    yss = (ya ** 2).sum(0) / (n - 1)  # variance of y (with df as n-1)\n",
    "    xys = (xa * ya).sum(0) / (n - 1)  # covariance (with df as n-1)\n",
    "    # slope and intercept\n",
    "    slope = xys / xss\n",
    "    # statistics about fit\n",
    "    df = n - 2\n",
    "    r = xys / (xss * yss)**0.5\n",
    "    t = r * (df / ((1 - r) * (1 + r)))**0.5\n",
    "    p = stats.distributions.t.sf(abs(t), df)\n",
    "\n",
    "    # misclaneous additional functions\n",
    "    # intercept = ym - (slope * xm)\n",
    "    # yhat = dot(x, slope[None]) + intercept\n",
    "    # sse = ((yhat - y)**2).sum(0) / (n - 2)  # n-2 is df\n",
    "    # se = ((1 - r**2) * yss / xss / df)**0.5\n",
    "\n",
    "    # preparing outputs\n",
    "    out = xarr.to_dataset(name=xarr.name)\n",
    "    # first create variable for slope and adjust meta\n",
    "    out['slope'] = xarr[:2].mean('time').copy()\n",
    "    out['slope'].name += '_slope'\n",
    "    out['slope'].attrs['units'] = 'units / day'\n",
    "    out['slope'].values = slope.reshape(xarr.shape[1:])\n",
    "    # do the same for the p value\n",
    "    out['pval'] = xarr[:2].mean('time').copy()\n",
    "    out['pval'].name += '_Pvalue'\n",
    "    out['pval'].values = p.reshape(xarr.shape[1:])\n",
    "    out['pval'].attrs['info'] = (\"If p < 0.05 then the results \"\n",
    "                                 \"from 'slope' are significant.\")\n",
    "\n",
    "    return out"
   ]
  },
  {
   "cell_type": "code",
   "execution_count": null,
   "metadata": {},
   "outputs": [],
   "source": [
    "climatology = ds.TEMP.groupby('time.month').mean('time')\n",
    "anomalies = ds.TEMP.groupby('time.month') - climatology\n",
    "climatology.plot()\n",
    "#get linear trend\n",
    "trend = xarray_trend(ds.TEMP)\n",
    "plt.suptitle(\"BMP120 20m seasonal cycle\")\n",
    "plt.savefig('BMP120_20m_seasonal_cycle.png', dpi=300,bbox_inches='tight')\n",
    "trend"
   ]
  },
  {
   "cell_type": "code",
   "execution_count": null,
   "metadata": {},
   "outputs": [],
   "source": [
    "decade_trend = trend.slope*3650\n",
    "decade_trend"
   ]
  },
  {
   "cell_type": "code",
   "execution_count": null,
   "metadata": {},
   "outputs": [],
   "source": [
    "BMP_120_anomalies = anomalies\n",
    "BMP_120_anomalies.plot()\n",
    "BMP_120_anomalies.to_netcdf"
   ]
  },
  {
   "cell_type": "code",
   "execution_count": null,
   "metadata": {},
   "outputs": [],
   "source": [
    "y = surface_temp_1D.fillna(surface_temp_1D.ffill())\n",
    "sns.distplot(y)"
   ]
  },
  {
   "cell_type": "code",
   "execution_count": null,
   "metadata": {},
   "outputs": [],
   "source": [
    "# NO LONGER 80-120\n",
    "# Plot all\n",
    "fig, ax = plt.subplots()\n",
    "ax.plot(bottom_temp_1D, marker='.', markersize=2, color='0.6',\n",
    "linestyle='None', label='Daily')\n",
    "ax.plot(bottom_temp_7D, linewidth=2, label='7-d Rolling Mean')\n",
    "# Set x-ticks to yearly interval and add legend and labels\n",
    "#ax.xaxis.set_major_locator(mdates.YearLocator())\n",
    "ax.legend()\n",
    "ax.set_xlabel('Year')\n",
    "ax.set_ylabel('Temperature')\n",
    "ax.set_title(' Temperature at BMP 120');\n",
    "plt.savefig('BMP120_80-120m_temperature_tseries.png', dpi=300,bbox_inches='tight')"
   ]
  },
  {
   "cell_type": "code",
   "execution_count": null,
   "metadata": {},
   "outputs": [],
   "source": [
    "# NO LONGER 80-120\n",
    "# Plot 1 year\n",
    "fig, ax = plt.subplots()\n",
    "ax.plot(bottom_temp_1D, marker='.', markersize=2, color='0.6',\n",
    "linestyle='None', label='Daily')\n",
    "# ax.plot(bottom_temp_7D, linewidth=2, label='7-d Rolling Mean')\n",
    "# Set x-ticks to yearly interval and add legend and labels\n",
    "#ax.xaxis.set_major_locator(mdates.YearLocator())\n",
    "ax.legend()\n",
    "ax.set_xlabel('Year')\n",
    "ax.set_ylabel('Temperature')\n",
    "ax.set_title('80-120m Temperature at BMP 120');\n",
    "plt.savefig('BMP120_80-120m_temperature_tseries.png', dpi=300,bbox_inches='tight')"
   ]
  },
  {
   "cell_type": "code",
   "execution_count": null,
   "metadata": {},
   "outputs": [],
   "source": []
  }
 ],
 "metadata": {
  "kernelspec": {
   "display_name": "Python 3",
   "language": "python",
   "name": "python3"
  },
  "language_info": {
   "codemirror_mode": {
    "name": "ipython",
    "version": 3
   },
   "file_extension": ".py",
   "mimetype": "text/x-python",
   "name": "python",
   "nbconvert_exporter": "python",
   "pygments_lexer": "ipython3",
   "version": "3.7.7"
  }
 },
 "nbformat": 4,
 "nbformat_minor": 4
}
